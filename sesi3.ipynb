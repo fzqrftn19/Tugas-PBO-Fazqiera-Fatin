{
  "nbformat": 4,
  "nbformat_minor": 0,
  "metadata": {
    "colab": {
      "name": "sesi3.ipynb",
      "provenance": [],
      "include_colab_link": true
    },
    "kernelspec": {
      "name": "python3",
      "display_name": "Python 3"
    }
  },
  "cells": [
    {
      "cell_type": "markdown",
      "metadata": {
        "id": "view-in-github",
        "colab_type": "text"
      },
      "source": [
        "<a href=\"https://colab.research.google.com/github/fzqrftn19/Tugas-PBO-Fazqiera-Fatin/blob/main/sesi3.ipynb\" target=\"_parent\"><img src=\"https://colab.research.google.com/assets/colab-badge.svg\" alt=\"Open In Colab\"/></a>"
      ]
    },
    {
      "cell_type": "markdown",
      "metadata": {
        "id": "HdQHl1DnS307"
      },
      "source": [
        "**Contoh sederhana perulangan for**"
      ]
    },
    {
      "cell_type": "code",
      "metadata": {
        "id": "UBsWfjkUS1ea",
        "colab": {
          "base_uri": "https://localhost:8080/"
        },
        "outputId": "80297da0-e16c-443e-c8bc-917bb0858738"
      },
      "source": [
        "# Deklarasi variabel contoh dan 10 itu sebagai tanda 10 kali perulangan\n",
        "contoh = 10\n",
        "\n",
        "# Variabel i berfungsi untuk menampung indeks,\n",
        "# dan fungsi range() berfungsi untuk membuat list dari 0-10.\n",
        "for i in range(contoh):\n",
        "    print (\"Perulangan ke-\" +str(i))"
      ],
      "execution_count": 1,
      "outputs": [
        {
          "output_type": "stream",
          "name": "stdout",
          "text": [
            "Perulangan ke-0\n",
            "Perulangan ke-1\n",
            "Perulangan ke-2\n",
            "Perulangan ke-3\n",
            "Perulangan ke-4\n",
            "Perulangan ke-5\n",
            "Perulangan ke-6\n",
            "Perulangan ke-7\n",
            "Perulangan ke-8\n",
            "Perulangan ke-9\n"
          ]
        }
      ]
    },
    {
      "cell_type": "code",
      "metadata": {
        "id": "5S1oZePQXuI7",
        "colab": {
          "base_uri": "https://localhost:8080/"
        },
        "outputId": "fcdd8d41-6292-4780-94d7-5dbe63b5758b"
      },
      "source": [
        "# Menampilkan range dari kumpulan deret tertentu\n",
        "# range(5,10) akan membuat deret angka mulai dari 5, 6, 7, 8, dan 9.\n",
        "\n",
        "for i in range(5,10):\n",
        "  print(i)"
      ],
      "execution_count": 2,
      "outputs": [
        {
          "output_type": "stream",
          "name": "stdout",
          "text": [
            "5\n",
            "6\n",
            "7\n",
            "8\n",
            "9\n"
          ]
        }
      ]
    },
    {
      "cell_type": "markdown",
      "metadata": {
        "id": "APu2517GUHmf"
      },
      "source": [
        "**Contoh menampilkan isi dalam body perulangan**"
      ]
    },
    {
      "cell_type": "code",
      "metadata": {
        "id": "XD8LlLIAUHMB",
        "colab": {
          "base_uri": "https://localhost:8080/"
        },
        "outputId": "f3b9591d-da47-4803-c972-622089763229"
      },
      "source": [
        "# Deklarasi variabel contoh2 dengan tipe list\n",
        "contoh2 = ['saya','suka','minum','kopi', 'gayo']\n",
        "\n",
        "for isi in contoh2:\n",
        "    print (isi)"
      ],
      "execution_count": 3,
      "outputs": [
        {
          "output_type": "stream",
          "name": "stdout",
          "text": [
            "saya\n",
            "suka\n",
            "minum\n",
            "kopi\n",
            "gayo\n"
          ]
        }
      ]
    },
    {
      "cell_type": "markdown",
      "metadata": {
        "id": "40KiZwfwU-yo"
      },
      "source": [
        "**Contoh menggunakan while**"
      ]
    },
    {
      "cell_type": "code",
      "metadata": {
        "id": "DuPUSTlcVD5a",
        "colab": {
          "base_uri": "https://localhost:8080/"
        },
        "outputId": "0c8d933c-c386-468f-ccda-72a75a037f52"
      },
      "source": [
        "# Deklarasi variabel hit\n",
        "hit = 0\n",
        "# Membuat kondisi\n",
        "while (hit < 5):\n",
        "    print(hit, \"kurang dari 5\")\n",
        "    hit = hit + 1\n",
        "else:\n",
        "# Menampilkan output salam jika kondisi sudah terpenuhi\n",
        "    print(\"Salammmm\")"
      ],
      "execution_count": 4,
      "outputs": [
        {
          "output_type": "stream",
          "name": "stdout",
          "text": [
            "0 kurang dari 5\n",
            "1 kurang dari 5\n",
            "2 kurang dari 5\n",
            "3 kurang dari 5\n",
            "4 kurang dari 5\n",
            "Salammmm\n"
          ]
        }
      ]
    },
    {
      "cell_type": "markdown",
      "metadata": {
        "id": "f2KqONtGF5ll"
      },
      "source": [
        "**Program Menghitung Harga Tiket Masuk**"
      ]
    },
    {
      "cell_type": "code",
      "metadata": {
        "id": "JWRgH3jFDAxD",
        "colab": {
          "base_uri": "https://localhost:8080/"
        },
        "outputId": "ec87bbb3-0a39-40e3-ed17-ac86d7a37f40"
      },
      "source": [
        "##\n",
        "# Program menghitung Faktor Persekutuan Terbesa\n",
        "#\n",
        "\n",
        "# Membaca dua bilangan positif dari user\n",
        "n = int(input(\"Masukkan bilangan positif:\"))\n",
        "m = int(input(\"Masukkan bilangan positif:\"))\n",
        "\n",
        "# Inisialisasi variabel untuk nilai terkecil dari n dan m\n",
        "d = min(n, m)\n",
        "\n",
        "# Gunakan loop while untuk mencari FPT\n",
        "while n % d != 0 or m % d != 0:\n",
        "  d = d - 1\n",
        "\n",
        "# Menampilkan hasil\n",
        "print(\"Faktor persekutuan terbesar dari\", n, \"dan\", m, \" adalah\", d)\n",
        "\n"
      ],
      "execution_count": 5,
      "outputs": [
        {
          "output_type": "stream",
          "name": "stdout",
          "text": [
            "Masukkan bilangan positif:90\n",
            "Masukkan bilangan positif:78\n",
            "Faktor persekutuan terbesar dari 90 dan 78  adalah 6\n"
          ]
        }
      ]
    },
    {
      "cell_type": "markdown",
      "metadata": {
        "id": "6ziy9uooNU1w"
      },
      "source": [
        "**Program Mencari Nilai Maksimum dari 100 bilangan bulat**"
      ]
    },
    {
      "cell_type": "code",
      "metadata": {
        "id": "VMV99NcTNUEu",
        "colab": {
          "base_uri": "https://localhost:8080/"
        },
        "outputId": "9bf1c951-b24d-4733-d76c-1d2f29cd86e6"
      },
      "source": [
        "##\n",
        "# Menentukan nilai maksimum 100 bilangan bulat, menghitung berapa kali\n",
        "# perulangan\n",
        "\n",
        "from random import randrange\n",
        "\n",
        "BIL_ITEMS = 100\n",
        "\n",
        "# Generate the first number and menampilkan nya\n",
        "maks_nilai = randrange(1, BIL_ITEMS + 1)\n",
        "print(maks_nilai)\n",
        "\n",
        "# Menghitung berapa kali perubahan\n",
        "bil_update = 0\n",
        "\n",
        "# Untuk setiap bilangan\n",
        "for i in range(1, BIL_ITEMS):\n",
        "  # Generate bilangan acak\n",
        "  current = randrange(1, BIL_ITEMS + 1)\n",
        "\n",
        "  # Kondisi jika ditemukan bilangan terbesar\n",
        "  if current > maks_nilai:\n",
        "    # Update nilai maksimum dan hitung perubahan\n",
        "    maks_nilai = current\n",
        "    bil_update = bil_update + 1\n",
        "    # Tampilkan bilangan jika masih ada proses update\n",
        "    print(current, \"<== Update\")\n",
        "  else:\n",
        "    #Tampilkan bilangan\n",
        "    print(current)\n",
        "\n",
        "# Tampilkan Hasil Terakhir\n",
        "print(\" Nilai maksimum yang ditemukan adalah\", maks_nilai)\n",
        "print(\"Nilai maksimum yang di-update\", bil_update, \"kali\")"
      ],
      "execution_count": 6,
      "outputs": [
        {
          "output_type": "stream",
          "name": "stdout",
          "text": [
            "79\n",
            "55\n",
            "2\n",
            "92 <== Update\n",
            "68\n",
            "95 <== Update\n",
            "23\n",
            "19\n",
            "86\n",
            "22\n",
            "66\n",
            "64\n",
            "31\n",
            "65\n",
            "77\n",
            "54\n",
            "46\n",
            "51\n",
            "34\n",
            "28\n",
            "42\n",
            "68\n",
            "56\n",
            "55\n",
            "46\n",
            "69\n",
            "83\n",
            "96 <== Update\n",
            "14\n",
            "74\n",
            "54\n",
            "23\n",
            "55\n",
            "77\n",
            "1\n",
            "2\n",
            "77\n",
            "97 <== Update\n",
            "29\n",
            "36\n",
            "58\n",
            "44\n",
            "28\n",
            "70\n",
            "72\n",
            "33\n",
            "42\n",
            "33\n",
            "61\n",
            "47\n",
            "39\n",
            "48\n",
            "59\n",
            "11\n",
            "86\n",
            "37\n",
            "69\n",
            "35\n",
            "83\n",
            "75\n",
            "22\n",
            "86\n",
            "73\n",
            "87\n",
            "78\n",
            "17\n",
            "48\n",
            "68\n",
            "50\n",
            "1\n",
            "4\n",
            "43\n",
            "13\n",
            "86\n",
            "42\n",
            "64\n",
            "14\n",
            "47\n",
            "61\n",
            "46\n",
            "35\n",
            "37\n",
            "92\n",
            "46\n",
            "43\n",
            "81\n",
            "51\n",
            "18\n",
            "92\n",
            "6\n",
            "28\n",
            "70\n",
            "24\n",
            "57\n",
            "45\n",
            "33\n",
            "82\n",
            "12\n",
            "23\n",
            "23\n",
            " Nilai maksimum yang ditemukan adalah 97\n",
            "Nilai maksimum yang di-update 4 kali\n"
          ]
        }
      ]
    }
  ]
}