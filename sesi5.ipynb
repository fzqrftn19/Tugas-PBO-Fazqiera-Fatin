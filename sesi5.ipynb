{
  "nbformat": 4,
  "nbformat_minor": 0,
  "metadata": {
    "colab": {
      "name": "sesi5.ipynb",
      "provenance": [],
      "include_colab_link": true
    },
    "kernelspec": {
      "name": "python3",
      "display_name": "Python 3"
    }
  },
  "cells": [
    {
      "cell_type": "markdown",
      "metadata": {
        "id": "view-in-github",
        "colab_type": "text"
      },
      "source": [
        "<a href=\"https://colab.research.google.com/github/fzqrftn19/Tugas-PBO-Fazqiera-Fatin/blob/main/sesi5.ipynb\" target=\"_parent\"><img src=\"https://colab.research.google.com/assets/colab-badge.svg\" alt=\"Open In Colab\"/></a>"
      ]
    },
    {
      "cell_type": "markdown",
      "metadata": {
        "id": "2HJ7cUMhuNSF"
      },
      "source": [
        "**Program Membuat List**"
      ]
    },
    {
      "cell_type": "code",
      "metadata": {
        "id": "59I2hs4QqfCE",
        "colab": {
          "base_uri": "https://localhost:8080/"
        },
        "outputId": "edeb5fe5-17cd-463d-9de9-1f671d9d27a4"
      },
      "source": [
        "# Pembuatan list pada bahasa pemrograman python\n",
        "list1 = [\"a\", \"b\", \"c\", \"d\"]\n",
        "list2 = ['bahasa arab', 'bahasa aceh', 2019, 2020]\n",
        "list3 = [1, 2, 3, 4, 5, 6, 7 ]\n",
        "\n",
        "\n",
        "# Mengakses Nilai list dalam Python\n",
        "print (\"list1[0]: \", list1[0])\n",
        "print (\"list2[1:3]: \", list2[1:3])\n",
        "print (\"list3[1:5]: \", list3[1:6])"
      ],
      "execution_count": 1,
      "outputs": [
        {
          "output_type": "stream",
          "name": "stdout",
          "text": [
            "list1[0]:  a\n",
            "list2[1:3]:  ['bahasa aceh', 2019]\n",
            "list3[1:5]:  [2, 3, 4, 5, 6]\n"
          ]
        }
      ]
    },
    {
      "cell_type": "markdown",
      "metadata": {
        "id": "ePzepubIw6G_"
      },
      "source": [
        "**Mengupdate Nilai pada List**"
      ]
    },
    {
      "cell_type": "code",
      "metadata": {
        "id": "Ef3FQ2Nnw9Pj",
        "colab": {
          "base_uri": "https://localhost:8080/"
        },
        "outputId": "b2e5a503-751c-49bf-d7bf-7190c7a4c451"
      },
      "source": [
        "# Pembuatan list dan mengakses nilai list pada indeks 2\n",
        "list = ['bahasa arab', 'bahasa aceh', 2019, 2020]\n",
        "print(\"Nilai ada pada indeks 2 adalah:\", list[2])\n",
        "\n",
        "# Proses Update nilai list pada indeks 2\n",
        "list[2] = 2021  # Mengubah nilai pada indeks 2\n",
        "print(\"Nilai baru ada pada indeks 2 adalah:\", list[2])\n"
      ],
      "execution_count": 10,
      "outputs": [
        {
          "output_type": "stream",
          "name": "stdout",
          "text": [
            "Nilai ada pada indeks 2 adalah: 2019\n",
            "Nilai baru ada pada indeks 2 adalah: 2021\n"
          ]
        }
      ]
    },
    {
      "cell_type": "markdown",
      "metadata": {
        "id": "ztC0UcO7zsyw"
      },
      "source": [
        "**Menghapus Nilai pada List**"
      ]
    },
    {
      "cell_type": "code",
      "metadata": {
        "id": "aT7iJAdvz0FX",
        "colab": {
          "base_uri": "https://localhost:8080/"
        },
        "outputId": "51e385e2-6333-4cca-d772-98ccef33b4db"
      },
      "source": [
        "# Pembuatan list\n",
        "list = ['bahasa arab', 'bahasa aceh', 2019, 2020]\n",
        "print (\"Daftar list sebelum dihapus:\", list)\n",
        "\n",
        "# Proses menghapus nilai List pada indeks 1\n",
        "del list[1]\n",
        "print (\"Setelah dihapus nilai pada index 1 : \", list)"
      ],
      "execution_count": 11,
      "outputs": [
        {
          "output_type": "stream",
          "name": "stdout",
          "text": [
            "Daftar list sebelum dihapus: ['bahasa arab', 'bahasa aceh', 2019, 2020]\n",
            "Setelah dihapus nilai pada index 1 :  ['bahasa arab', 2019, 2020]\n"
          ]
        }
      ]
    }
  ]
}