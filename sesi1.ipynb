{
  "nbformat": 4,
  "nbformat_minor": 0,
  "metadata": {
    "colab": {
      "name": "sesi1.ipynb",
      "provenance": [],
      "include_colab_link": true
    },
    "kernelspec": {
      "name": "python3",
      "display_name": "Python 3"
    }
  },
  "cells": [
    {
      "cell_type": "markdown",
      "metadata": {
        "id": "view-in-github",
        "colab_type": "text"
      },
      "source": [
        "<a href=\"https://colab.research.google.com/github/fzqrftn19/Tugas-PBO-Fazqiera-Fatin/blob/main/sesi1.ipynb\" target=\"_parent\"><img src=\"https://colab.research.google.com/assets/colab-badge.svg\" alt=\"Open In Colab\"/></a>"
      ]
    },
    {
      "cell_type": "markdown",
      "metadata": {
        "id": "GiSc_8aXHQSf"
      },
      "source": [
        "Menggunakan sintaks print"
      ]
    },
    {
      "cell_type": "code",
      "metadata": {
        "id": "x8gH7SdYHa8M",
        "colab": {
          "base_uri": "https://localhost:8080/"
        },
        "outputId": "e69b9cc6-4ac4-4596-bd3c-6c04be72133d"
      },
      "source": [
        "# Tampilkan alamat\n",
        "print(\"Fazqiera Fatin\")\n",
        "print(\"Program Studi Teknologi Informasi\")\n",
        "print(\"Kec Jaya Baru Kota Banda Aceh\")\n",
        "print(\"Jalan Gapura Punge Blang Cut\")\n",
        "print(\"Punge Blang Cut 23234\")\n",
        "print(\"Indonesia\")"
      ],
      "execution_count": 1,
      "outputs": [
        {
          "output_type": "stream",
          "name": "stdout",
          "text": [
            "Fazqiera Fatin\n",
            "Program Studi Teknologi Informasi\n",
            "Kec Jaya Baru Kota Banda Aceh\n",
            "Jalan Gapura Punge Blang Cut\n",
            "Punge Blang Cut 23234\n",
            "Indonesia\n"
          ]
        }
      ]
    },
    {
      "cell_type": "markdown",
      "metadata": {
        "id": "7tiu0HF_IRoo"
      },
      "source": [
        "Menghitung luas kamar"
      ]
    },
    {
      "cell_type": "code",
      "metadata": {
        "id": "uYw5THVfIV86",
        "colab": {
          "base_uri": "https://localhost:8080/"
        },
        "outputId": "74ce6cec-5ec9-4872-843c-9bb381d25daf"
      },
      "source": [
        "# Menghitung luas kamar\n",
        "\n",
        "# Membaca angka yang dimasukkan oleh user\n",
        "panjang = float(input(\"Masukkan ukuran panjang dalam satuan meter \"))\n",
        "lebar = float(input(\"Masukkan ukuran lebar dalam satuan meter \"))\n",
        "\n",
        "# Proses perhitungan luas\n",
        "luas = panjang * lebar\n",
        "\n",
        "# Tampilkan hasil\n",
        "print(\"Luas dari kamar ini adalah\", luas, \"meter kuadrat\")\n"
      ],
      "execution_count": 2,
      "outputs": [
        {
          "output_type": "stream",
          "name": "stdout",
          "text": [
            "Masukkan ukuran panjang dalam satuan meter 8\n",
            "Masukkan ukuran lebar dalam satuan meter 10\n",
            "Luas dari kamar ini adalah 80.0 meter kuadrat\n"
          ]
        }
      ]
    },
    {
      "cell_type": "markdown",
      "metadata": {
        "id": "trRLS1YcKshT"
      },
      "source": [
        "Menghitung jumlah dari suatu bilangan"
      ]
    },
    {
      "cell_type": "code",
      "metadata": {
        "id": "RYfwo6chK1HJ",
        "colab": {
          "base_uri": "https://localhost:8080/"
        },
        "outputId": "a8ca4fca-56ab-47c0-b98b-d5cf6acbfb16"
      },
      "source": [
        "# Menghitung jumlah dari bilangan positif pertama\n",
        "\n",
        "# Membaca angka yang dimasukkan oleh user\n",
        "n = int(input(\"Masukkan bilangan bulat positif:\"))\n",
        "\n",
        "# Proses Menghitung jumlah\n",
        "sm = n * (n+1) / 2\n",
        "\n",
        "# Tampilkan hasil\n",
        "print(\"Jumlah pertama dari \", n, \"bilangan positif adalah\", sm)"
      ],
      "execution_count": 3,
      "outputs": [
        {
          "output_type": "stream",
          "name": "stdout",
          "text": [
            "Masukkan bilangan bulat positif:45\n",
            "Jumlah pertama dari  45 bilangan positif adalah 1035.0\n"
          ]
        }
      ]
    },
    {
      "cell_type": "markdown",
      "metadata": {
        "id": "k7tQ6AlASXqA"
      },
      "source": [
        "Mengenal fungsi aritmatika"
      ]
    },
    {
      "cell_type": "code",
      "metadata": {
        "id": "TXs5C5EnSW7r",
        "colab": {
          "base_uri": "https://localhost:8080/"
        },
        "outputId": "38da8549-de78-4d7e-d29e-a0c6c4502197"
      },
      "source": [
        " # Pengenalan operator matematika pada Python dan modul math\n",
        "\n",
        "\n",
        "from math import log10\n",
        "\n",
        "# Membaca input dari user\n",
        "x = int (input(\"Masukkan bilangan dari x:\"))\n",
        "y = int (input(\"Masukkan bilangan dari y:\"))\n",
        "\n",
        "# Menghitung dan menampilkan operator matematika\n",
        "print(x, \"+\", y, \"adalah\", x + y)\n",
        "print(x, \"-\", y, \"adalah\", x - y)\n",
        "print(x, \"*\", y, \"adalah\", x * y)\n",
        "print(x, \"/\", y, \"adalah\", x / y)\n",
        "print(x, \"%\", y, \"adalah\", x % y)\n",
        "\n",
        "# Menghitung logaritma dan pangkat\n",
        "print(\"Logaritma basis 10 dari\", x, \"adalah\", log10(x))\n",
        "print(x, \"^\", y, \"adalah\", x**y)\n"
      ],
      "execution_count": 4,
      "outputs": [
        {
          "output_type": "stream",
          "name": "stdout",
          "text": [
            "Masukkan bilangan dari x:33\n",
            "Masukkan bilangan dari y:90\n",
            "33 + 90 adalah 123\n",
            "33 - 90 adalah -57\n",
            "33 * 90 adalah 2970\n",
            "33 / 90 adalah 0.36666666666666664\n",
            "33 % 90 adalah 33\n",
            "Logaritma basis 10 dari 33 adalah 1.5185139398778875\n",
            "33 ^ 90 adalah 46371867792637960640613656556670936409522467277366683975415923475311139087985423659377159879590974656576222350102112237561822445812490049\n"
          ]
        }
      ]
    }
  ]
}